{
 "cells": [
  {
   "cell_type": "code",
   "execution_count": 75,
   "id": "ba2f60bf-12d4-4a97-a62b-491d49317451",
   "metadata": {},
   "outputs": [],
   "source": [
    "from itertools import permutations\n"
   ]
  },
  {
   "cell_type": "code",
   "execution_count": 232,
   "id": "dc94770b-12c7-4cfa-9c93-2f22eddc4de5",
   "metadata": {},
   "outputs": [],
   "source": [
    "def factorial(n):\n",
    "    ans = 1\n",
    "    for i in range(1, n+1):\n",
    "        ans*=i\n",
    "    return ans\n",
    "\n",
    "def nPk(n, k):\n",
    "    if k==0:\n",
    "        return 1\n",
    "    ans = n\n",
    "    for i in range(1,k):\n",
    "        ans*= (n-i)\n",
    "    return ans\n",
    "\n",
    "assert(nPk(30,0)==1)\n",
    "assert(nPk(4,2)==12)\n",
    "assert(nPk(100,1)==100)\n",
    "assert(nPk(23450,2)==23450*(23450-1))\n",
    "assert(nPk(935,5)==935*(935-1)*(935-2)*(935-3)*(935-4))\n",
    "assert(nPk(8,8)==factorial(8))\n",
    "assert(nPk(30,30)==factorial(30))\n",
    "\n",
    "\n",
    "\n",
    "def multinomial(n, a, b):\n",
    "    # only computes two categories (n chose a,b)\n",
    "    ks = sorted([a,b])\n",
    "    k_max = ks[1]\n",
    "    k_min = ks[0] \n",
    "    return int(nPk(n, n-k_max)/(factorial(k_min)))\n",
    "    \n",
    "assert(multinomial(4,2,2)==6)\n",
    "assert(multinomial(9,8,1)==9)\n",
    "assert(multinomial(34,30,4)== 31*32*33*34/(4*3*2))"
   ]
  },
  {
   "cell_type": "code",
   "execution_count": 190,
   "id": "3890b4f4-3837-47cb-a9f8-a6f410dd10b2",
   "metadata": {},
   "outputs": [],
   "source": [
    "# ans = 0\n",
    "# num_as = 2\n",
    "\n",
    "# for i in range(4,33):\n",
    "#     b_bound = min(i-3, 10)+1\n",
    "#     print(f\"3rd A index = {i}\")\n",
    "\n",
    "#     for num_bs in range(1, b_bound):\n",
    "#         print(f\" number of B's = {num_bs}\")\n",
    "\n",
    "#         gap_size = i-1\n",
    "#         num_cs =  gap_size - num_as-num_bs\n",
    "#         assert(num_as+num_bs+num_cs==gap_size)\n",
    "#         factor=multinomial(gap_size, num_as, num_bs, num_cs)\n",
    "#         factor*=12\n",
    "#         factor*=nPk(10, num_bs)\n",
    "#         # print(factor)\n",
    "#         factor*=nPk(20, num_cs)\n",
    "#         # print(factor)\n",
    "#         factor*=factorial(35-i)\n",
    "#         ans+=factor\n",
    "\n",
    "# ans\n",
    "        \n",
    "        "
   ]
  },
  {
   "cell_type": "code",
   "execution_count": 175,
   "id": "dce84cf1-fa49-4077-b8ee-de89c0a9c810",
   "metadata": {},
   "outputs": [],
   "source": [
    "# # try computing the explicit sets\n",
    "# These ranges don't work because 35! is too large.\n",
    "# ranges = {'A': 5, 'B': 10, 'C': 20}\n",
    "\n",
    "ranges = {'A': 5, 'B': 10, 'C': 20}\n",
    "\n",
    "A = ['A'+ str(i) for i in range(1, ranges['A']+1)]\n",
    "B = ['B'+ str(i) for i in range(1, ranges['B']+1)]\n",
    "C = ['C'+ str(i) for i in range(1, ranges['C']+1)]\n",
    "\n"
   ]
  },
  {
   "cell_type": "code",
   "execution_count": 177,
   "id": "b347ec1a-f240-4fbe-9bf0-7013265b64ce",
   "metadata": {},
   "outputs": [],
   "source": [
    "N = A +B +C"
   ]
  },
  {
   "cell_type": "code",
   "execution_count": 135,
   "id": "61ddfd62-a3b5-4b81-9fa9-b8b8def3366e",
   "metadata": {},
   "outputs": [],
   "source": [
    "all_perms = permutations(N)"
   ]
  },
  {
   "cell_type": "code",
   "execution_count": 143,
   "id": "e9ff1867-5901-4125-8659-fa89120fd38a",
   "metadata": {},
   "outputs": [],
   "source": [
    "# for permutation in all_perms:\n",
    "#     print(permutation)\n"
   ]
  },
  {
   "cell_type": "code",
   "execution_count": 139,
   "id": "f88c24ad-4cb5-400d-ae2a-f0ffcafdd34a",
   "metadata": {},
   "outputs": [],
   "source": [
    "# shapleyAnominator = 0\n",
    "# for permutation in all_perms:\n",
    "#     left_As_count=0\n",
    "#     left_Bs_count=0\n",
    "#     for shareholder in permutation:\n",
    "#         if shareholder == \"A5\":\n",
    "#             break\n",
    "#         else:\n",
    "#             if shareholder[0] == \"A\":\n",
    "#                 left_As_count+=1\n",
    "#             if shareholder[0] == \"B\":\n",
    "#                 left_Bs_count+=1\n",
    "#     if left_As_count==2 and left_Bs_count>0:\n",
    "#         shapleyAnominator += 1\n",
    "            \n"
   ]
  },
  {
   "cell_type": "code",
   "execution_count": 244,
   "id": "fbeeeb69-fddc-4c4c-a210-1b304c176251",
   "metadata": {},
   "outputs": [
    {
     "name": "stdout",
     "output_type": "stream",
     "text": [
      "Summation of:\n",
      " C(2, [(2, 0)]) * P(30, 0) * (32!) = 1*1*263130836933693530167218012160000000\n",
      " C(3, [(2, 1)]) * P(30, 1) * (31!) = 3*30*8222838654177922817725562880000000\n",
      " C(4, [(2, 2)]) * P(30, 2) * (30!) = 6*870*265252859812191058636308480000000\n",
      " C(5, [(2, 3)]) * P(30, 3) * (29!) = 10*24360*8841761993739701954543616000000\n",
      " C(6, [(2, 4)]) * P(30, 4) * (28!) = 15*657720*304888344611713860501504000000\n",
      " C(7, [(2, 5)]) * P(30, 5) * (27!) = 21*17100720*10888869450418352160768000000\n",
      " C(8, [(2, 6)]) * P(30, 6) * (26!) = 28*427518000*403291461126605635584000000\n",
      " C(9, [(2, 7)]) * P(30, 7) * (25!) = 36*10260432000*15511210043330985984000000\n",
      " C(10, [(2, 8)]) * P(30, 8) * (24!) = 45*235989936000*620448401733239439360000\n",
      " C(11, [(2, 9)]) * P(30, 9) * (23!) = 55*5191778592000*25852016738884976640000\n",
      " C(12, [(2, 10)]) * P(30, 10) * (22!) = 66*109027350432000*1124000727777607680000\n",
      " C(13, [(2, 11)]) * P(30, 11) * (21!) = 78*2180547008640000*51090942171709440000\n",
      " C(14, [(2, 12)]) * P(30, 12) * (20!) = 91*41430393164160000*2432902008176640000\n",
      " C(15, [(2, 13)]) * P(30, 13) * (19!) = 105*745747076954880000*121645100408832000\n",
      " C(16, [(2, 14)]) * P(30, 14) * (18!) = 120*12677700308232960000*6402373705728000\n",
      " C(17, [(2, 15)]) * P(30, 15) * (17!) = 136*202843204931727360000*355687428096000\n",
      " C(18, [(2, 16)]) * P(30, 16) * (16!) = 153*3042648073975910400000*20922789888000\n",
      " C(19, [(2, 17)]) * P(30, 17) * (15!) = 171*42597073035662745600000*1307674368000\n",
      " C(20, [(2, 18)]) * P(30, 18) * (14!) = 190*553761949463615692800000*87178291200\n",
      " C(21, [(2, 19)]) * P(30, 19) * (13!) = 210*6645143393563388313600000*6227020800\n",
      " C(22, [(2, 20)]) * P(30, 20) * (12!) = 231*73096577329197271449600000*479001600\n",
      " C(23, [(2, 21)]) * P(30, 21) * (11!) = 253*730965773291972714496000000*39916800\n",
      " C(24, [(2, 22)]) * P(30, 22) * (10!) = 276*6578691959627754430464000000*3628800\n",
      " C(25, [(2, 23)]) * P(30, 23) * (9!) = 300*52629535677022035443712000000*362880\n",
      " C(26, [(2, 24)]) * P(30, 24) * (8!) = 325*368406749739154248105984000000*40320\n",
      " C(27, [(2, 25)]) * P(30, 25) * (7!) = 351*2210440498434925488635904000000*5040\n",
      " C(28, [(2, 26)]) * P(30, 26) * (6!) = 378*11052202492174627443179520000000*720\n",
      " C(29, [(2, 27)]) * P(30, 27) * (5!) = 406*44208809968698509772718080000000*120\n",
      " C(30, [(2, 28)]) * P(30, 28) * (4!) = 435*132626429906095529318154240000000*24\n",
      " C(31, [(2, 29)]) * P(30, 29) * (3!) = 465*265252859812191058636308480000000*6\n",
      " C(32, [(2, 30)]) * P(30, 30) * (2!) = 496*265252859812191058636308480000000*2\n"
     ]
    },
    {
     "data": {
      "text/plain": [
       "2066629593277228985933330267504640000000"
      ]
     },
     "execution_count": 244,
     "metadata": {},
     "output_type": "execute_result"
    }
   ],
   "source": [
    "# number of permutaitons with two shareholders of group A left of 5 (belonging to group A)\n",
    "print(\"Summation of:\")\n",
    "ans1=0\n",
    "for i in range(3, 34):\n",
    "    gap = i-1\n",
    "    non_as = i-3\n",
    "    multinomial_term = multinomial(gap, 2, non_as)\n",
    "    p_term = nPk(30, non_as)\n",
    "    fac_term = factorial(35-i)\n",
    "    print(f\" C({gap}, [{2, non_as}]) * P(30, {non_as}) * ({35-i}!) = {multinomial_term}*{p_term}*{fac_term}\")\n",
    "    ans1 += multinomial_term*p_term*fac_term\n",
    "# print(ans)\n",
    "ans1*=12 # recall multiply by 4P2\n",
    "ans1"
   ]
  },
  {
   "cell_type": "code",
   "execution_count": 246,
   "id": "00b3fcc8-4004-42b0-9bd9-4199067ed9a8",
   "metadata": {},
   "outputs": [
    {
     "name": "stdout",
     "output_type": "stream",
     "text": [
      "Summation of:\n",
      " C(2, [(2, 0)]) * P(20, 0) * (32!) = 1*1*263130836933693530167218012160000000\n",
      " C(3, [(2, 1)]) * P(20, 1) * (31!) = 3*20*8222838654177922817725562880000000\n",
      " C(4, [(2, 2)]) * P(20, 2) * (30!) = 6*380*265252859812191058636308480000000\n",
      " C(5, [(2, 3)]) * P(20, 3) * (29!) = 10*6840*8841761993739701954543616000000\n",
      " C(6, [(2, 4)]) * P(20, 4) * (28!) = 15*116280*304888344611713860501504000000\n",
      " C(7, [(2, 5)]) * P(20, 5) * (27!) = 21*1860480*10888869450418352160768000000\n",
      " C(8, [(2, 6)]) * P(20, 6) * (26!) = 28*27907200*403291461126605635584000000\n",
      " C(9, [(2, 7)]) * P(20, 7) * (25!) = 36*390700800*15511210043330985984000000\n",
      " C(10, [(2, 8)]) * P(20, 8) * (24!) = 45*5079110400*620448401733239439360000\n",
      " C(11, [(2, 9)]) * P(20, 9) * (23!) = 55*60949324800*25852016738884976640000\n",
      " C(12, [(2, 10)]) * P(20, 10) * (22!) = 66*670442572800*1124000727777607680000\n",
      " C(13, [(2, 11)]) * P(20, 11) * (21!) = 78*6704425728000*51090942171709440000\n",
      " C(14, [(2, 12)]) * P(20, 12) * (20!) = 91*60339831552000*2432902008176640000\n",
      " C(15, [(2, 13)]) * P(20, 13) * (19!) = 105*482718652416000*121645100408832000\n",
      " C(16, [(2, 14)]) * P(20, 14) * (18!) = 120*3379030566912000*6402373705728000\n",
      " C(17, [(2, 15)]) * P(20, 15) * (17!) = 136*20274183401472000*355687428096000\n",
      " C(18, [(2, 16)]) * P(20, 16) * (16!) = 153*101370917007360000*20922789888000\n",
      " C(19, [(2, 17)]) * P(20, 17) * (15!) = 171*405483668029440000*1307674368000\n",
      " C(20, [(2, 18)]) * P(20, 18) * (14!) = 190*1216451004088320000*87178291200\n",
      " C(21, [(2, 19)]) * P(20, 19) * (13!) = 210*2432902008176640000*6227020800\n",
      " C(22, [(2, 20)]) * P(20, 20) * (12!) = 231*2432902008176640000*479001600\n"
     ]
    },
    {
     "data": {
      "text/plain": [
       "45420430621477560130402863022080000000"
      ]
     },
     "execution_count": 246,
     "metadata": {},
     "output_type": "execute_result"
    }
   ],
   "source": [
    "# number of permutaitons with two shareholders of group A and no B shareholders left of 5 (belonging to group A)\n",
    "print(\"Summation of:\")\n",
    "ans2= 0\n",
    "for i in range(3, 24):\n",
    "    gap = i-1\n",
    "    non_as = i-3\n",
    "    multinomial_term = multinomial(gap, 2, non_as)\n",
    "    p_term = nPk(20, non_as)\n",
    "    fac_term = factorial(35-i)\n",
    "    print(f\" C({gap}, [{2, non_as}]) * P(20, {non_as}) * ({35-i}!) = {multinomial_term}*{p_term}*{fac_term}\")\n",
    "    ans2 += multinomial_term*p_term*fac_term\n",
    "# print(ans2)\n",
    "ans2*=12 # recall multiply by 4P2\n",
    "ans2"
   ]
  },
  {
   "cell_type": "code",
   "execution_count": 262,
   "id": "0d56ebc7-1656-418f-aec9-f2562e908739",
   "metadata": {},
   "outputs": [
    {
     "data": {
      "text/plain": [
       "2021209162655751425802927404482560000000"
      ]
     },
     "execution_count": 262,
     "metadata": {},
     "output_type": "execute_result"
    }
   ],
   "source": [
    "total = ans1-ans2\n",
    "assert(total>ans2)\n",
    "total"
   ]
  },
  {
   "cell_type": "code",
   "execution_count": 256,
   "id": "95dc0112-745a-40b2-a636-a138ac6a30f2",
   "metadata": {},
   "outputs": [],
   "source": [
    "shapleyA = total/factorial(35)"
   ]
  },
  {
   "cell_type": "code",
   "execution_count": 258,
   "id": "82562f53-3f93-4612-b1ec-70e5e2cd9b67",
   "metadata": {},
   "outputs": [],
   "source": [
    "shapleyB = (1-5*shapleyA)/10"
   ]
  },
  {
   "cell_type": "code",
   "execution_count": 260,
   "id": "7f60a532-ac82-45f0-9d4e-d35ea2aa4db0",
   "metadata": {},
   "outputs": [
    {
     "data": {
      "text/plain": [
       "0.0021978021978022013"
      ]
     },
     "execution_count": 260,
     "metadata": {},
     "output_type": "execute_result"
    }
   ],
   "source": [
    "shapleyB"
   ]
  },
  {
   "cell_type": "code",
   "execution_count": null,
   "id": "726916f3-8d45-4570-835c-b187a8162b83",
   "metadata": {},
   "outputs": [],
   "source": []
  }
 ],
 "metadata": {
  "kernelspec": {
   "display_name": "Python 3 (ipykernel)",
   "language": "python",
   "name": "python3"
  },
  "language_info": {
   "codemirror_mode": {
    "name": "ipython",
    "version": 3
   },
   "file_extension": ".py",
   "mimetype": "text/x-python",
   "name": "python",
   "nbconvert_exporter": "python",
   "pygments_lexer": "ipython3",
   "version": "3.12.7"
  }
 },
 "nbformat": 4,
 "nbformat_minor": 5
}
