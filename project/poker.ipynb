{
 "cells": [
  {
   "cell_type": "code",
   "execution_count": 1,
   "id": "e4a300ab-084c-4cd6-9fed-196352e30f4b",
   "metadata": {},
   "outputs": [],
   "source": [
    "def factorial(n):\n",
    "    ans = 1\n",
    "    for i in range(1, n+1):\n",
    "        ans*=i\n",
    "    return ans\n",
    "\n",
    "def nPk(n, k):\n",
    "    if k==0:\n",
    "        return 1\n",
    "    ans = n\n",
    "    for i in range(1,k):\n",
    "        ans*= (n-i)\n",
    "    return ans\n",
    "\n",
    "assert(nPk(30,0)==1)\n",
    "assert(nPk(4,2)==12)\n",
    "assert(nPk(100,1)==100)\n",
    "assert(nPk(23450,2)==23450*(23450-1))\n",
    "assert(nPk(935,5)==935*(935-1)*(935-2)*(935-3)*(935-4))\n",
    "assert(nPk(8,8)==factorial(8))\n",
    "assert(nPk(30,30)==factorial(30))\n",
    "\n",
    "\n",
    "\n",
    "def multinomial(n, a, b):\n",
    "    # only computes two categories (n chose a,b)\n",
    "    ks = sorted([a,b])\n",
    "    k_max = ks[1]\n",
    "    k_min = ks[0] \n",
    "    return int(nPk(n, n-k_max)/(factorial(k_min)))\n",
    "    \n",
    "assert(multinomial(4,2,2)==6)\n",
    "assert(multinomial(9,8,1)==9)\n",
    "assert(multinomial(34,30,4)== 31*32*33*34/(4*3*2))"
   ]
  },
  {
   "cell_type": "code",
   "execution_count": 5,
   "id": "1abbb9d1-25c8-4371-aceb-7d79b7fc0daa",
   "metadata": {},
   "outputs": [
    {
     "data": {
      "text/plain": [
       "0.2749167412992"
      ]
     },
     "execution_count": 5,
     "metadata": {},
     "output_type": "execute_result"
    }
   ],
   "source": [
    "# how many game states in hold'em poker? \n",
    "# game states are isomorphic to ordered lists of 5+2+2 elements from [56]\n",
    "leng = nPk(56,9)\n",
    "leng/(10**16)"
   ]
  },
  {
   "cell_type": "code",
   "execution_count": null,
   "id": "c340428b-6a97-4632-8f16-aead14f2649f",
   "metadata": {},
   "outputs": [],
   "source": []
  }
 ],
 "metadata": {
  "kernelspec": {
   "display_name": "Python 3 (ipykernel)",
   "language": "python",
   "name": "python3"
  },
  "language_info": {
   "codemirror_mode": {
    "name": "ipython",
    "version": 3
   },
   "file_extension": ".py",
   "mimetype": "text/x-python",
   "name": "python",
   "nbconvert_exporter": "python",
   "pygments_lexer": "ipython3",
   "version": "3.12.7"
  }
 },
 "nbformat": 4,
 "nbformat_minor": 5
}
